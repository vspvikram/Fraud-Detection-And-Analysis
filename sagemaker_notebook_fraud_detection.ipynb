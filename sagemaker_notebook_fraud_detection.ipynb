{
 "cells": [
  {
   "cell_type": "markdown",
   "id": "9d97c00e",
   "metadata": {},
   "source": [
    "# Custom model deployment using Sagemaker"
   ]
  },
  {
   "cell_type": "code",
   "execution_count": 1,
   "id": "6a5af4be",
   "metadata": {
    "scrolled": true
   },
   "outputs": [
    {
     "name": "stdout",
     "output_type": "stream",
     "text": [
      "Looking in indexes: https://pypi.org/simple, https://pip.repos.neuron.amazonaws.com\n",
      "Requirement already satisfied: sagemaker==1.72 in /home/ec2-user/anaconda3/envs/pytorch_p39/lib/python3.9/site-packages (1.72.0)\n",
      "Requirement already satisfied: protobuf3-to-dict>=0.1.5 in /home/ec2-user/anaconda3/envs/pytorch_p39/lib/python3.9/site-packages (from sagemaker==1.72) (0.1.5)\n",
      "Requirement already satisfied: boto3>=1.14.12 in /home/ec2-user/anaconda3/envs/pytorch_p39/lib/python3.9/site-packages (from sagemaker==1.72) (1.26.44)\n",
      "Requirement already satisfied: scipy>=0.19.0 in /home/ec2-user/anaconda3/envs/pytorch_p39/lib/python3.9/site-packages (from sagemaker==1.72) (1.8.1)\n",
      "Requirement already satisfied: protobuf>=3.1 in /home/ec2-user/anaconda3/envs/pytorch_p39/lib/python3.9/site-packages (from sagemaker==1.72) (3.20.2)\n",
      "Requirement already satisfied: smdebug-rulesconfig==0.1.4 in /home/ec2-user/anaconda3/envs/pytorch_p39/lib/python3.9/site-packages (from sagemaker==1.72) (0.1.4)\n",
      "Requirement already satisfied: importlib-metadata>=1.4.0 in /home/ec2-user/anaconda3/envs/pytorch_p39/lib/python3.9/site-packages (from sagemaker==1.72) (4.13.0)\n",
      "Requirement already satisfied: numpy>=1.9.0 in /home/ec2-user/anaconda3/envs/pytorch_p39/lib/python3.9/site-packages (from sagemaker==1.72) (1.22.4)\n",
      "Requirement already satisfied: packaging>=20.0 in /home/ec2-user/anaconda3/envs/pytorch_p39/lib/python3.9/site-packages (from sagemaker==1.72) (21.3)\n",
      "Requirement already satisfied: s3transfer<0.7.0,>=0.6.0 in /home/ec2-user/anaconda3/envs/pytorch_p39/lib/python3.9/site-packages (from boto3>=1.14.12->sagemaker==1.72) (0.6.0)\n",
      "Requirement already satisfied: jmespath<2.0.0,>=0.7.1 in /home/ec2-user/anaconda3/envs/pytorch_p39/lib/python3.9/site-packages (from boto3>=1.14.12->sagemaker==1.72) (1.0.1)\n",
      "Requirement already satisfied: botocore<1.30.0,>=1.29.44 in /home/ec2-user/anaconda3/envs/pytorch_p39/lib/python3.9/site-packages (from boto3>=1.14.12->sagemaker==1.72) (1.29.44)\n",
      "Requirement already satisfied: zipp>=0.5 in /home/ec2-user/anaconda3/envs/pytorch_p39/lib/python3.9/site-packages (from importlib-metadata>=1.4.0->sagemaker==1.72) (3.10.0)\n",
      "Requirement already satisfied: pyparsing!=3.0.5,>=2.0.2 in /home/ec2-user/anaconda3/envs/pytorch_p39/lib/python3.9/site-packages (from packaging>=20.0->sagemaker==1.72) (3.0.9)\n",
      "Requirement already satisfied: six in /home/ec2-user/anaconda3/envs/pytorch_p39/lib/python3.9/site-packages (from protobuf3-to-dict>=0.1.5->sagemaker==1.72) (1.16.0)\n",
      "Requirement already satisfied: python-dateutil<3.0.0,>=2.1 in /home/ec2-user/anaconda3/envs/pytorch_p39/lib/python3.9/site-packages (from botocore<1.30.0,>=1.29.44->boto3>=1.14.12->sagemaker==1.72) (2.8.2)\n",
      "Requirement already satisfied: urllib3<1.27,>=1.25.4 in /home/ec2-user/anaconda3/envs/pytorch_p39/lib/python3.9/site-packages (from botocore<1.30.0,>=1.29.44->boto3>=1.14.12->sagemaker==1.72) (1.26.8)\n"
     ]
    }
   ],
   "source": [
    "# install sagemaker\n",
    "import sys\n",
    "!{sys.executable} -m pip install sagemaker==1.72"
   ]
  },
  {
   "cell_type": "code",
   "execution_count": 2,
   "id": "015c39ae",
   "metadata": {},
   "outputs": [],
   "source": [
    "# importing the required libraries\n",
    "import os\n",
    "import sys\n",
    "import json\n",
    "import time\n",
    "import io\n",
    "import boto3\n",
    "from time import strftime, gmtime\n",
    "\n",
    "from IPython.display import display\n",
    "import re\n",
    "import sagemaker\n",
    "from sagemaker import get_execution_role"
   ]
  },
  {
   "cell_type": "code",
   "execution_count": 3,
   "id": "e7f775c4",
   "metadata": {},
   "outputs": [],
   "source": [
    "# grab the sagemaker client, boto3 session and execution roles to create a bucket to store the model outputs\n",
    "sess = boto3.Session()\n",
    "sm = sess.client('sagemaker')\n",
    "role = sagemaker.get_execution_role()"
   ]
  },
  {
   "cell_type": "code",
   "execution_count": 4,
   "id": "24f9b7f7",
   "metadata": {},
   "outputs": [],
   "source": [
    "# giving the docker image name\n",
    "docker_image_name = \"<Replace this with your ECR repository registory link\""
   ]
  },
  {
   "cell_type": "code",
   "execution_count": 5,
   "id": "9d8f5099",
   "metadata": {},
   "outputs": [],
   "source": [
    "# s3 bucket storing the model output data is mentioned below\n",
    "account_id = sess.client('sts', region_name=sess.region_name).get_caller_identity()['Account']\n",
    "bucket = \"sagemaker-studio-{}/{}\".format(sess.region_name, account_id)\n",
    "prefix = \"fraud-detection\""
   ]
  },
  {
   "cell_type": "markdown",
   "id": "ad390e95",
   "metadata": {},
   "source": [
    "## Creating estimator with custom model"
   ]
  },
  {
   "cell_type": "code",
   "execution_count": 6,
   "id": "f56ad634",
   "metadata": {},
   "outputs": [
    {
     "name": "stderr",
     "output_type": "stream",
     "text": [
      "Parameter image_name will be renamed to image_uri in SageMaker Python SDK v2.\n"
     ]
    }
   ],
   "source": [
    "sess = sagemaker.session.Session()\n",
    "fraud_detector = sagemaker.estimator.Estimator(image_name=docker_image_name,\n",
    "                                              role=role, train_instance_count=1,\n",
    "                                              train_instance_type='ml.m5.xlarge',\n",
    "                                              output_path = \"s3://{}/{}/output\".format(bucket, prefix),\n",
    "                                              base_job_name=\"fraud-detection\",\n",
    "                                              sagemaker_session=sess)"
   ]
  },
  {
   "cell_type": "markdown",
   "id": "0b3629dd",
   "metadata": {},
   "source": [
    "## Train the model on the training data located in the container image"
   ]
  },
  {
   "cell_type": "code",
   "execution_count": null,
   "id": "be73aaf5",
   "metadata": {
    "scrolled": true
   },
   "outputs": [],
   "source": [
    "fraud_detector.fit()"
   ]
  },
  {
   "cell_type": "markdown",
   "id": "c69812f3",
   "metadata": {},
   "source": [
    "## Deploy the custom trained model"
   ]
  },
  {
   "cell_type": "code",
   "execution_count": 8,
   "id": "ff1480b5",
   "metadata": {},
   "outputs": [],
   "source": [
    "endpoint_name = \"fraud-detection-endpoint\""
   ]
  },
  {
   "cell_type": "code",
   "execution_count": null,
   "id": "724686b6",
   "metadata": {},
   "outputs": [],
   "source": [
    "fraud_detector.deploy(initial_instance_count=1, \n",
    "                    instance_type='ml.m5.xlarge', \n",
    "                    endpoint_name=endpoint_name)"
   ]
  },
  {
   "cell_type": "code",
   "execution_count": null,
   "id": "154e4d8c",
   "metadata": {},
   "outputs": [],
   "source": [
    "# deleting the endpoint when we are done with the inference\n",
    "sm.delete_endpoint(EndpointName=endpoint_name)"
   ]
  }
 ],
 "metadata": {
  "kernelspec": {
   "display_name": "conda_pytorch_p39",
   "language": "python",
   "name": "conda_pytorch_p39"
  },
  "language_info": {
   "codemirror_mode": {
    "name": "ipython",
    "version": 3
   },
   "file_extension": ".py",
   "mimetype": "text/x-python",
   "name": "python",
   "nbconvert_exporter": "python",
   "pygments_lexer": "ipython3",
   "version": "3.9.13"
  }
 },
 "nbformat": 4,
 "nbformat_minor": 5
}
